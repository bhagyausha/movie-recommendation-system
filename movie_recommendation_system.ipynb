{
 "cells": [
  {
   "cell_type": "code",
   "execution_count": 25,
   "id": "0e4bfe63",
   "metadata": {},
   "outputs": [
    {
     "name": "stdout",
     "output_type": "stream",
     "text": [
      "['ml-latest-small/', 'ml-latest-small/links.csv', 'ml-latest-small/tags.csv', 'ml-latest-small/ratings.csv', 'ml-latest-small/README.txt', 'ml-latest-small/movies.csv']\n",
      "   userId  movieId  rating  timestamp\n",
      "0       1        1     4.0  964982703\n",
      "1       1        3     4.0  964981247\n",
      "2       1        6     4.0  964982224\n",
      "3       1       47     5.0  964983815\n",
      "4       1       50     5.0  964982931\n",
      "Evaluating RMSE, MAE of algorithm SVD on 5 split(s).\n",
      "\n",
      "                  Fold 1  Fold 2  Fold 3  Fold 4  Fold 5  Mean    Std     \n",
      "RMSE (testset)    0.8753  0.8711  0.8758  0.8877  0.8689  0.8758  0.0065  \n",
      "MAE (testset)     0.6688  0.6688  0.6735  0.6828  0.6685  0.6725  0.0055  \n",
      "Fit time          1.22    1.26    1.23    1.26    1.32    1.26    0.03    \n",
      "Test time         0.14    0.31    0.13    0.18    0.10    0.17    0.08    \n"
     ]
    }
   ],
   "source": [
    "import pandas as pd\n",
    "from zipfile import ZipFile\n",
    "from io import BytesIO\n",
    "import requests\n",
    "\n",
    "# URL of the ZIP file\n",
    "url = 'https://files.grouplens.org/datasets/movielens/ml-latest-small.zip'\n",
    "\n",
    "# Download the ZIP file and extract its contents\n",
    "response = requests.get(url)\n",
    "with ZipFile(BytesIO(response.content)) as z:\n",
    "    # Check the content of the ZIP file\n",
    "    print(z.namelist())  # This will list all files within the ZIP archive\n",
    "    \n",
    "    # Read ratings.csv from the ZIP archive\n",
    "    with z.open('ml-latest-small/ratings.csv') as f:\n",
    "        df = pd.read_csv(f)\n",
    "\n",
    "# Display the first few rows of the DataFrame\n",
    "print(df.head())\n",
    "\n",
    "# Install necessary libraries (uncomment the line below if running in an environment where libraries need to be installed)\n",
    "# !pip install numpy pandas scikit-surprise\n",
    "\n",
    "# Import libraries\n",
    "import numpy as np\n",
    "from surprise import Dataset, Reader, SVD\n",
    "from surprise.model_selection import cross_validate\n",
    "\n",
    "# Use the Reader class from surprise to parse the DataFrame\n",
    "reader = Reader(rating_scale=(0.5, 5.0))\n",
    "data = Dataset.load_from_df(df[['userId', 'movieId', 'rating']], reader)\n",
    "\n",
    "# Use the SVD algorithm from surprise\n",
    "algo = SVD()\n",
    "\n",
    "# Perform cross-validation and print results\n",
    "results = cross_validate(algo, data, measures=['RMSE', 'MAE'], cv=5, verbose=True)\n"
   ]
  },
  {
   "cell_type": "code",
   "execution_count": null,
   "id": "56fb84a6",
   "metadata": {},
   "outputs": [],
   "source": []
  },
  {
   "cell_type": "code",
   "execution_count": null,
   "id": "a7982fca",
   "metadata": {},
   "outputs": [],
   "source": []
  }
 ],
 "metadata": {
  "kernelspec": {
   "display_name": "Python 3 (ipykernel)",
   "language": "python",
   "name": "python3"
  },
  "language_info": {
   "codemirror_mode": {
    "name": "ipython",
    "version": 3
   },
   "file_extension": ".py",
   "mimetype": "text/x-python",
   "name": "python",
   "nbconvert_exporter": "python",
   "pygments_lexer": "ipython3",
   "version": "3.11.7"
  }
 },
 "nbformat": 4,
 "nbformat_minor": 5
}
